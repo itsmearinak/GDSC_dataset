{
 "cells": [
  {
   "cell_type": "code",
   "execution_count": 7,
   "id": "9cb6c3e6-0346-4940-98ad-02a6dedbe9a6",
   "metadata": {},
   "outputs": [
    {
     "name": "stdout",
     "output_type": "stream",
     "text": [
      "   COSMIC_ID CELL_LINE_NAME     TCGA_DESC  DRUG_ID     DRUG_NAME   LN_IC50  \\\n",
      "0     683667         PFSK-1            MB     1003  Camptothecin -1.463887   \n",
      "1     684057            ES5  UNCLASSIFIED     1003  Camptothecin -3.360586   \n",
      "2     684059            ES7  UNCLASSIFIED     1003  Camptothecin -5.044940   \n",
      "3     684062          EW-11  UNCLASSIFIED     1003  Camptothecin -3.741991   \n",
      "4     684072        SK-ES-1  UNCLASSIFIED     1003  Camptothecin -5.142961   \n",
      "\n",
      "        AUC   Z_SCORE GDSC Tissue descriptor 1 GDSC Tissue descriptor 2  \\\n",
      "0  0.930220  0.433123           nervous_system          medulloblastoma   \n",
      "1  0.791072 -0.599569                     bone           ewings_sarcoma   \n",
      "2  0.592660 -1.516647                     bone           ewings_sarcoma   \n",
      "3  0.734047 -0.807232                     bone           ewings_sarcoma   \n",
      "4  0.582439 -1.570016                     bone           ewings_sarcoma   \n",
      "\n",
      "  Cancer Type (matching TCGA label) Microsatellite instability Status (MSI)  \\\n",
      "0                                MB                               MSS/MSI-L   \n",
      "1                               NaN                               MSS/MSI-L   \n",
      "2                               NaN                               MSS/MSI-L   \n",
      "3                               NaN                               MSS/MSI-L   \n",
      "4                               NaN                               MSS/MSI-L   \n",
      "\n",
      "  Screen Medium Growth Properties CNA Gene Expression Methylation TARGET  \\\n",
      "0             R          Adherent   Y               Y           Y   TOP1   \n",
      "1             R          Adherent   Y               Y           Y   TOP1   \n",
      "2             R          Adherent   Y               Y           Y   TOP1   \n",
      "3             R          Adherent   Y               Y           Y   TOP1   \n",
      "4             R     Semi-Adherent   Y               Y           Y   TOP1   \n",
      "\n",
      "    TARGET_PATHWAY  \n",
      "0  DNA replication  \n",
      "1  DNA replication  \n",
      "2  DNA replication  \n",
      "3  DNA replication  \n",
      "4  DNA replication  \n"
     ]
    }
   ],
   "source": [
    "import pandas as pd\n",
    "import numpy as np\n",
    "import matplotlib.pyplot as plt\n",
    "import seaborn as sns\n",
    "\n",
    "FILE_ID = \"1NmsM2-TKO-lf6jX2R_V68bG05shkZ2On\"\n",
    "file_url = f\"https://drive.google.com/uc?id={FILE_ID}\"\n",
    "df = pd.read_csv(file_url)\n",
    "print(df.head(5))"
   ]
  },
  {
   "cell_type": "code",
   "execution_count": 13,
   "id": "2f21174d-f8ca-4b94-9fec-9829f66510b0",
   "metadata": {},
   "outputs": [
    {
     "name": "stdout",
     "output_type": "stream",
     "text": [
      "\n",
      "Типы данных столбцов:\n",
      "COSMIC_ID                                    int64\n",
      "CELL_LINE_NAME                              object\n",
      "TCGA_DESC                                   object\n",
      "DRUG_ID                                      int64\n",
      "DRUG_NAME                                   object\n",
      "LN_IC50                                    float64\n",
      "AUC                                        float64\n",
      "Z_SCORE                                    float64\n",
      "GDSC Tissue descriptor 1                    object\n",
      "GDSC Tissue descriptor 2                    object\n",
      "Cancer Type (matching TCGA label)           object\n",
      "Microsatellite instability Status (MSI)     object\n",
      "Screen Medium                               object\n",
      "Growth Properties                           object\n",
      "CNA                                         object\n",
      "Gene Expression                             object\n",
      "Methylation                                 object\n",
      "TARGET                                      object\n",
      "TARGET_PATHWAY                              object\n",
      "dtype: object\n",
      "\n",
      "Количество пропусков по столбцам:\n",
      "COSMIC_ID                                      0\n",
      "CELL_LINE_NAME                                 0\n",
      "TCGA_DESC                                   1067\n",
      "DRUG_ID                                        0\n",
      "DRUG_NAME                                      0\n",
      "LN_IC50                                        0\n",
      "AUC                                            0\n",
      "Z_SCORE                                        0\n",
      "GDSC Tissue descriptor 1                    9366\n",
      "GDSC Tissue descriptor 2                    9366\n",
      "Cancer Type (matching TCGA label)          51446\n",
      "Microsatellite instability Status (MSI)    12353\n",
      "Screen Medium                               9366\n",
      "Growth Properties                           9366\n",
      "CNA                                         9366\n",
      "Gene Expression                             9366\n",
      "Methylation                                 9366\n",
      "TARGET                                     27155\n",
      "TARGET_PATHWAY                                 0\n",
      "dtype: int64\n",
      "\n",
      "Доля пропусков по столбцам:\n",
      "COSMIC_ID                                   0.000000\n",
      "CELL_LINE_NAME                              0.000000\n",
      "TCGA_DESC                                   0.440845\n",
      "DRUG_ID                                     0.000000\n",
      "DRUG_NAME                                   0.000000\n",
      "LN_IC50                                     0.000000\n",
      "AUC                                         0.000000\n",
      "Z_SCORE                                     0.000000\n",
      "GDSC Tissue descriptor 1                    3.869688\n",
      "GDSC Tissue descriptor 2                    3.869688\n",
      "Cancer Type (matching TCGA label)          21.255604\n",
      "Microsatellite instability Status (MSI)     5.103807\n",
      "Screen Medium                               3.869688\n",
      "Growth Properties                           3.869688\n",
      "CNA                                         3.869688\n",
      "Gene Expression                             3.869688\n",
      "Methylation                                 3.869688\n",
      "TARGET                                     11.219452\n",
      "TARGET_PATHWAY                              0.000000\n",
      "dtype: float64\n"
     ]
    }
   ],
   "source": [
    "print(\"\\nТипы данных столбцов:\")\n",
    "print(df.dtypes)\n",
    "\n",
    "print(\"\\nКоличество пропусков по столбцам:\")\n",
    "print(df.isna().sum())\n",
    "\n",
    "print(\"\\nДоля пропусков по столбцам:\")\n",
    "missing_percentage = df.isna().mean() * 100\n",
    "print(missing_percentage)"
   ]
  },
  {
   "cell_type": "code",
   "execution_count": null,
   "id": "987f7714-d60d-4c99-9c75-e03797dbe647",
   "metadata": {},
   "outputs": [
    {
     "name": "stdout",
     "output_type": "stream",
     "text": [
      "\n",
      "Количество дубликатов по 'COSMIC_ID': 241066\n",
      "Является ли 'COSMIC_ID' уникальным: False\n",
      "\n",
      "Общее количество записей в датасете: 242035\n"
     ]
    }
   ],
   "source": [
    "if 'COSMIC_ID' in df.columns:\n",
    "    duplicates_id = df.duplicated(subset=['COSMIC_ID']).sum()\n",
    "    print(f\"\\nКоличество дубликатов по 'COSMIC_ID': {duplicates_id}\")\n",
    "    is_unique_id = df['COSMIC_ID'].is_unique\n",
    "    print(f\"Является ли 'COSMIC_ID' уникальным: {is_unique_id}\")\n",
    "else:\n",
    "    print(\"\\nСтолбец 'COSMIC_ID' не найден в датасете. Невозможно проверить уникальность идентификаторов.\")\n",
    "\n",
    "num_records = len(df)\n",
    "print(f\"\\nОбщее количество записей в датасете: {num_records}\")"
   ]
  },
  {
   "cell_type": "code",
   "execution_count": 16,
   "id": "b752a2f9-0d0b-42ea-a16d-dc531fabc610",
   "metadata": {},
   "outputs": [
    {
     "name": "stdout",
     "output_type": "stream",
     "text": [
      "\n",
      "Метрика Completeness (общая доля непустых значений): 0.966 (Цель: >= 0.98)\n"
     ]
    }
   ],
   "source": [
    "completeness_score = 1 - (df.isna().sum().sum() / (df.shape[0] * df.shape[1]))\n",
    "print(f\"\\nМетрика Completeness (общая доля непустых значений): {completeness_score:.3f} (Цель: >= 0.98)\")"
   ]
  },
  {
   "cell_type": "code",
   "execution_count": 17,
   "id": "a2f05d9e-7d3e-4702-9504-c21c33fa71fb",
   "metadata": {},
   "outputs": [
    {
     "name": "stdout",
     "output_type": "stream",
     "text": [
      "Метрика Uniqueness ('COSMIC_ID'): 0.004 (Цель: = 1.0)\n",
      "Метрика Duplication Rate ('COSMIC_ID'): 0.996 (Цель: <= 0.01)\n"
     ]
    }
   ],
   "source": [
    "if 'COSMIC_ID' in df.columns:\n",
    "    uniqueness_score = 1 - (df.duplicated(subset=['COSMIC_ID']).sum() / df.shape[0])\n",
    "    print(f\"Метрика Uniqueness ('COSMIC_ID'): {uniqueness_score:.3f} (Цель: = 1.0)\")\n",
    "else:\n",
    "    print(\"Метрика Uniqueness не рассчитана, столбец 'COSMIC_ID' отсутствует.\")\n",
    "\n",
    "if 'COSMIC_ID' in df.columns:\n",
    "    duplication_rate = df.duplicated(subset=['COSMIC_ID']).sum() / df.shape[0]\n",
    "    print(f\"Метрика Duplication Rate ('COSMIC_ID'): {duplication_rate:.3f} (Цель: <= 0.01)\")"
   ]
  },
  {
   "cell_type": "code",
   "execution_count": 39,
   "id": "23740428-e372-4e36-a446-7f05f7108042",
   "metadata": {},
   "outputs": [
    {
     "name": "stdout",
     "output_type": "stream",
     "text": [
      "\n",
      "Базовая статистика для числовых признаков (df.describe()):\n",
      "Числовые столбцы для анализа: ['LN_IC50', 'AUC', 'Z_SCORE']\n",
      "             LN_IC50            AUC        Z_SCORE\n",
      "count  242035.000000  242035.000000  242035.000000\n",
      "mean        2.719976       0.727279      -0.055112\n",
      "std         4.579435       0.267024       2.987765\n",
      "min        -8.747724       0.006287      -8.254445\n",
      "25%         0.099649       0.609758      -1.105662\n",
      "50%         2.792168       0.810289      -0.013842\n",
      "75%         5.414871       0.934524       1.069023\n",
      "max        13.820189       0.998904       7.978504\n"
     ]
    }
   ],
   "source": [
    "print(\"\\nБазовая статистика для числовых признаков (df.describe()):\")\n",
    "numeric_columns = ['LN_IC50', 'AUC', 'Z_SCORE']\n",
    "print(\"Числовые столбцы для анализа:\", numeric_columns)\n",
    "print(df[numeric_columns].describe())"
   ]
  },
  {
   "cell_type": "code",
   "execution_count": 46,
   "id": "5d2842de-aa4f-4138-a70b-d19cc82b3525",
   "metadata": {},
   "outputs": [
    {
     "name": "stdout",
     "output_type": "stream",
     "text": [
      "\n",
      "Анализ выбросов для столбца 'LN_IC50':\n",
      "Количество выбросов (по методу IQR): 5291\n",
      "Доля выбросов: 0.022\n",
      "\n",
      "Анализ выбросов для столбца 'AUC':\n",
      "Количество выбросов (по методу IQR): 10918\n",
      "Доля выбросов: 0.045\n",
      "\n",
      "Анализ выбросов для столбца 'Z_SCORE':\n",
      "Количество выбросов (по методу IQR): 42618\n",
      "Доля выбросов: 0.176\n"
     ]
    }
   ],
   "source": [
    "numerical_cols_for_outliers = []\n",
    "if 'LN_IC50' in df.columns and pd.api.types.is_numeric_dtype(df['LN_IC50']):\n",
    "    numerical_cols_for_outliers.append('LN_IC50')\n",
    "if 'AUC' in df.columns and pd.api.types.is_numeric_dtype(df['AUC']):\n",
    "    numerical_cols_for_outliers.append('AUC')\n",
    "if 'Z_SCORE' in df.columns and pd.api.types.is_numeric_dtype(df['Z_SCORE']):\n",
    "    numerical_cols_for_outliers.append('Z_SCORE')    \n",
    "for col in numerical_cols_for_outliers:\n",
    "    print(f\"\\nАнализ выбросов для столбца '{col}':\")\n",
    "    Q1 = df[col].quantile(0.25)\n",
    "    Q3 = df[col].quantile(0.75)\n",
    "    IQR = Q3 - Q1\n",
    "    lower_bound = Q1 - 1.5 * IQR\n",
    "    upper_bound = Q3 + 1.5 * IQR\n",
    "\n",
    "    outliers = df[(df[col] < lower_bound) | (df[col] > upper_bound)]\n",
    "    print(f\"Количество выбросов (по методу IQR): {len(outliers)}\")\n",
    "    print(f\"Доля выбросов: {len(outliers) / df.shape[0]:.3f}\")"
   ]
  },
  {
   "cell_type": "code",
   "execution_count": 49,
   "id": "ee8cf50e-9a5b-4808-b38f-f691f84e3af7",
   "metadata": {},
   "outputs": [
    {
     "name": "stdout",
     "output_type": "stream",
     "text": [
      "\n",
      "Метрика Outlier Ratio (средняя доля выбросов по анализируемым столбцам): 0.081 (Цель: <= 0.02)\n"
     ]
    }
   ],
   "source": [
    "if numerical_cols_for_outliers:\n",
    "    total_outliers = 0\n",
    "    total_values = 0\n",
    "    for col in numerical_cols_for_outliers:\n",
    "        Q1 = df[col].quantile(0.25)\n",
    "        Q3 = df[col].quantile(0.75)\n",
    "        IQR = Q3 - Q1\n",
    "        lower_bound = Q1 - 1.5 * IQR\n",
    "        upper_bound = Q3 + 1.5 * IQR\n",
    "        total_outliers += len(df[(df[col] < lower_bound) | (df[col] > upper_bound)])\n",
    "        total_values += df.shape[0]\n",
    "    outlier_ratio_score = total_outliers / total_values if total_values > 0 else 0\n",
    "    print(f\"\\nМетрика Outlier Ratio (средняя доля выбросов по анализируемым столбцам): {outlier_ratio_score:.3f} (Цель: <= 0.02)\")\n",
    "else:\n",
    "    print(\"Метрика Outlier Ratio не рассчитана, так как нет числовых столбцов для анализа выбросов.\")"
   ]
  }
 ],
 "metadata": {
  "kernelspec": {
   "display_name": "Python 3 (ipykernel)",
   "language": "python",
   "name": "python3"
  },
  "language_info": {
   "codemirror_mode": {
    "name": "ipython",
    "version": 3
   },
   "file_extension": ".py",
   "mimetype": "text/x-python",
   "name": "python",
   "nbconvert_exporter": "python",
   "pygments_lexer": "ipython3",
   "version": "3.13.7"
  }
 },
 "nbformat": 4,
 "nbformat_minor": 5
}
